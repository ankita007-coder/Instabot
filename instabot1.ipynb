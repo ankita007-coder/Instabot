{
 "cells": [
  {
   "cell_type": "markdown",
   "id": "0bb6addd",
   "metadata": {},
   "source": [
    "# Insta bot\n",
    "##### The bot can login into the insta account and can print the names of name typed in search box. The bot can follow and unfollow the insta handles. It can also "
   ]
  },
  {
   "cell_type": "code",
   "execution_count": null,
   "id": "f58d8dcf",
   "metadata": {},
   "outputs": [],
   "source": [
    "from selenium import webdriver\n",
    "from selenium.common.exceptions import NoSuchElementException\n",
    "from selenium.common.exceptions import ElementNotInteractableException\n",
    "from selenium.common.exceptions import StaleElementReferenceException\n",
    "from selenium.common.exceptions import TimeoutException\n",
    "from selenium.webdriver.support.ui import WebDriverWait\n",
    "from selenium.webdriver.support import expected_conditions as EC\n",
    "from selenium.webdriver.common.by import By"
   ]
  },
  {
   "cell_type": "code",
   "execution_count": null,
   "id": "36d828e5",
   "metadata": {},
   "outputs": [],
   "source": [
    "driver = webdriver.Chrome(executable_path='chromedriver.exe')"
   ]
  },
  {
   "cell_type": "code",
   "execution_count": null,
   "id": "dfbf6ba7",
   "metadata": {},
   "outputs": [],
   "source": [
    "#opening the login page\n",
    "driver.get('https://www.instagram.com/accounts/login/')\n",
    "waiter=WebDriverWait(driver, 10).until(EC.presence_of_element_located((By.NAME, \"username\")))"
   ]
  },
  {
   "cell_type": "code",
   "execution_count": null,
   "id": "d5356a98",
   "metadata": {},
   "outputs": [],
   "source": [
    "#entering the login details\n",
    "text_box = driver.find_element_by_name('username')\n",
    "text_box.send_keys('username')\n",
    "password = driver.find_element_by_name('password')\n",
    "password.send_keys('password')\n",
    "btn = driver.find_element_by_tag_name('button')\n",
    "btn.submit()"
   ]
  },
  {
   "cell_type": "code",
   "execution_count": null,
   "id": "b9e8cf09",
   "metadata": {},
   "outputs": [],
   "source": [
    "#to avoid saving the account credential info\n",
    "not_now= driver.find_elements_by_tag_name('button')\n",
    "not_now[1].click()\n",
    "waiter=WebDriverWait(driver, 10).until(EC.presence_of_element_located((By.CLASS_NAME, \"_a9_1\")))"
   ]
  },
  {
   "cell_type": "code",
   "execution_count": null,
   "id": "3ebb5a94",
   "metadata": {},
   "outputs": [],
   "source": [
    "#to turn on or off the notification..here I'm setting it to not now\n",
    "not_now= driver.find_element_by_class_name('_a9_1')\n",
    "not_now.click()"
   ]
  },
  {
   "cell_type": "markdown",
   "id": "31f7b9e2",
   "metadata": {},
   "source": [
    "\n",
    "\n",
    "\n",
    "## For printing the id names when the word food is typed"
   ]
  },
  {
   "cell_type": "code",
   "execution_count": null,
   "id": "d7f6d3f0",
   "metadata": {},
   "outputs": [],
   "source": [
    "#for activating the search box\n",
    "search = driver.find_element_by_class_name('_aaw8')"
   ]
  },
  {
   "cell_type": "code",
   "execution_count": null,
   "id": "4da293da",
   "metadata": {},
   "outputs": [],
   "source": [
    "search.click()"
   ]
  },
  {
   "cell_type": "code",
   "execution_count": null,
   "id": "3b70b4fe",
   "metadata": {},
   "outputs": [],
   "source": [
    "search_box = driver.find_element_by_class_name('_aauy')"
   ]
  },
  {
   "cell_type": "code",
   "execution_count": null,
   "id": "e1516832",
   "metadata": {},
   "outputs": [],
   "source": [
    "search_box.send_keys('food')"
   ]
  },
  {
   "cell_type": "code",
   "execution_count": null,
   "id": "dd2c9cee",
   "metadata": {},
   "outputs": [],
   "source": [
    "#printing the names\n",
    "for i in driver.find_elements_by_xpath('//div[@class=\"_abnx _aeul\"]/div/a/div/div/div/div/div/div'):\n",
    "    if 'span' not in i.get_attribute('innerHTML'):\n",
    "        print(i.get_attribute('innerHTML'))"
   ]
  },
  {
   "cell_type": "markdown",
   "id": "b4fd74c6",
   "metadata": {},
   "source": [
    "## To search so delhi account"
   ]
  },
  {
   "cell_type": "code",
   "execution_count": null,
   "id": "4498f4e4",
   "metadata": {},
   "outputs": [],
   "source": [
    "clear_btn = driver.find_element_by_class_name('_aawn')"
   ]
  },
  {
   "cell_type": "code",
   "execution_count": null,
   "id": "82de3ba1",
   "metadata": {},
   "outputs": [],
   "source": [
    "clear_btn.click()"
   ]
  },
  {
   "cell_type": "code",
   "execution_count": null,
   "id": "9fb809fd",
   "metadata": {},
   "outputs": [],
   "source": [
    "search = driver.find_element_by_class_name('_aaw8').click()"
   ]
  },
  {
   "cell_type": "code",
   "execution_count": null,
   "id": "a23cf3a9",
   "metadata": {},
   "outputs": [],
   "source": [
    "search_box = driver.find_element_by_class_name('_aauy')"
   ]
  },
  {
   "cell_type": "code",
   "execution_count": null,
   "id": "69380487",
   "metadata": {},
   "outputs": [],
   "source": [
    "search_box.send_keys('So Delhi')\n",
    "\n",
    "waiter=WebDriverWait(driver, 100).until(EC.presence_of_element_located((By.CLASS_NAME, \"_abn_\")))"
   ]
  },
  {
   "cell_type": "code",
   "execution_count": null,
   "id": "7c499b08",
   "metadata": {},
   "outputs": [],
   "source": [
    "\n",
    "open_so_delhi = driver.find_element_by_class_name('_abn_')"
   ]
  },
  {
   "cell_type": "code",
   "execution_count": null,
   "id": "4fd3bfeb",
   "metadata": {},
   "outputs": [],
   "source": [
    "open_so_delhi.click()\n",
    "waiter=WebDriverWait(driver, 100).until(EC.presence_of_element_located((By.CLASS_NAME, \"_aad6\")))"
   ]
  },
  {
   "cell_type": "markdown",
   "id": "89586f8e",
   "metadata": {},
   "source": [
    "## Following the page"
   ]
  },
  {
   "cell_type": "code",
   "execution_count": null,
   "id": "e090cefe",
   "metadata": {},
   "outputs": [],
   "source": [
    "if driver.find_element_by_class_name('_aad6').get_attribute('innerHTML')== 'Follow':\n",
    "    driver.find_element_by_class_name('_acas').click()   \n",
    "else:\n",
    "    print('Page already followed!!')\n",
    "waiter=WebDriverWait(driver, 100).until(EC.presence_of_element_located((By.CLASS_NAME, \"_ab9x\")))   "
   ]
  },
  {
   "cell_type": "markdown",
   "id": "f438fbb8",
   "metadata": {},
   "source": [
    "# UNFOLLOWING"
   ]
  },
  {
   "cell_type": "code",
   "execution_count": null,
   "id": "4fcadaf3",
   "metadata": {},
   "outputs": [],
   "source": [
    "if driver.find_element_by_class_name('_ab9x').get_attribute('innerHTML')!='Follow':\n",
    "    driver.find_elements_by_class_name('_acan')[1].click()\n",
    "    driver.find_element_by_class_name('_a9--').click()\n",
    "else:\n",
    "    print('Already unfollowed')"
   ]
  },
  {
   "cell_type": "code",
   "execution_count": null,
   "id": "84a63ec7",
   "metadata": {},
   "outputs": [],
   "source": [
    "## clear the search box\n",
    "search = driver.find_element_by_class_name('_aaw8').click()\n",
    "clear_btn = driver.find_element_by_class_name('_aawn')\n",
    "clear_btn.click()"
   ]
  },
  {
   "cell_type": "markdown",
   "id": "17920dfe",
   "metadata": {},
   "source": [
    "## Searching dilsefoodie account"
   ]
  },
  {
   "cell_type": "code",
   "execution_count": null,
   "id": "6292dc02",
   "metadata": {},
   "outputs": [],
   "source": [
    "search = driver.find_element_by_class_name('_aaw8').click()\n",
    "search_box = driver.find_element_by_class_name('_aauy')\n",
    "search_box.send_keys('dilsefoodie')\n",
    "waiter=WebDriverWait(driver, 100).until(EC.presence_of_element_located((By.CLASS_NAME, \"_abn_\")))"
   ]
  },
  {
   "cell_type": "code",
   "execution_count": null,
   "id": "fb972c5e",
   "metadata": {},
   "outputs": [],
   "source": [
    "open_dilsefoodie = driver.find_element_by_class_name('_abn_')"
   ]
  },
  {
   "cell_type": "code",
   "execution_count": null,
   "id": "6c805692",
   "metadata": {},
   "outputs": [],
   "source": [
    "open_dilsefoodie.click()"
   ]
  },
  {
   "cell_type": "markdown",
   "id": "e48c6d84",
   "metadata": {},
   "source": [
    "## Liking and disliking the posts"
   ]
  },
  {
   "cell_type": "code",
   "execution_count": null,
   "id": "50b3fe77",
   "metadata": {},
   "outputs": [],
   "source": [
    "#for clicking and liking the first post\n",
    "click = driver.find_element_by_class_name('_aagw')\n",
    "click.click()\n",
    "waiter=WebDriverWait(driver, 40).until(EC.presence_of_element_located((By.CLASS_NAME, \"_abl_\")))\n"
   ]
  },
  {
   "cell_type": "code",
   "execution_count": null,
   "id": "eef18301",
   "metadata": {},
   "outputs": [],
   "source": []
  },
  {
   "cell_type": "code",
   "execution_count": null,
   "id": "7e37c6ab",
   "metadata": {},
   "outputs": [],
   "source": [
    "#for click the next 29 posts\n",
    "for i in range(1,31):\n",
    "    try:\n",
    "        waiter=WebDriverWait(driver, 40).until(EC.presence_of_element_located((By.CLASS_NAME, \"_abl_\")))\n",
    "        driver.find_element_by_xpath('//div[contains(@class,\"_aaz4\")]/section/span[contains(@class,\"_aamw\")]/button/div[contains(@class,\"_abl_\")]').click()\n",
    "        print(i)\n",
    "    except NoSuchElementException:\n",
    "        print(i,'Already liked!')\n",
    "    \n",
    "    next_btn = driver.find_element_by_class_name('_aaqg')\n",
    "    next_btn.click()\n",
    "    \n",
    "    "
   ]
  },
  {
   "cell_type": "code",
   "execution_count": null,
   "id": "b75c2310",
   "metadata": {},
   "outputs": [],
   "source": []
  },
  {
   "cell_type": "markdown",
   "id": "4699588f",
   "metadata": {},
   "source": [
    "## For unliking the posts"
   ]
  },
  {
   "cell_type": "code",
   "execution_count": null,
   "id": "42bd62af",
   "metadata": {},
   "outputs": [],
   "source": [
    "click = driver.find_element_by_class_name('_aagw')\n",
    "click.click()"
   ]
  },
  {
   "cell_type": "code",
   "execution_count": null,
   "id": "274131b7",
   "metadata": {},
   "outputs": [],
   "source": [
    "#for click the next 30 posts\n",
    "for i in range(1,31):\n",
    "    try:\n",
    "        waiter=WebDriverWait(driver, 40).until(EC.presence_of_element_located((By.CLASS_NAME, \"_abl_\")))\n",
    "        driver.find_element_by_xpath('//div[contains(@class,\"_aaz4\")]/section/span[contains(@class,\"_aamw\")]/button/div[contains(@class,\"_abm0\")]').click()\n",
    "        print(i)\n",
    "    except ElementNotInteractableException:\n",
    "        print(i,'Already unliked!')\n",
    "    \n",
    "    next_btn = driver.find_element_by_class_name('_aaqg')\n",
    "    next_btn.click()\n",
    "    \n",
    "    "
   ]
  },
  {
   "cell_type": "markdown",
   "id": "ab9d671c",
   "metadata": {},
   "source": [
    "## Listing the followers of ‘foodtalkindia’ and ‘sodelhi’"
   ]
  },
  {
   "cell_type": "code",
   "execution_count": null,
   "id": "bf5b4123",
   "metadata": {},
   "outputs": [],
   "source": [
    "driver.back()"
   ]
  },
  {
   "cell_type": "code",
   "execution_count": null,
   "id": "e5d0b2fd",
   "metadata": {},
   "outputs": [],
   "source": [
    "search = driver.find_element_by_class_name('_aaw8')"
   ]
  },
  {
   "cell_type": "code",
   "execution_count": null,
   "id": "6c8db3b0",
   "metadata": {},
   "outputs": [],
   "source": [
    "search.click()"
   ]
  },
  {
   "cell_type": "code",
   "execution_count": null,
   "id": "042d9938",
   "metadata": {},
   "outputs": [],
   "source": [
    "search_box = driver.find_element_by_class_name('_aawh')"
   ]
  },
  {
   "cell_type": "code",
   "execution_count": null,
   "id": "b99f26c7",
   "metadata": {},
   "outputs": [],
   "source": [
    "search_box.send_keys('foodtalkindia')"
   ]
  },
  {
   "cell_type": "code",
   "execution_count": null,
   "id": "884414a6",
   "metadata": {},
   "outputs": [],
   "source": [
    "waiter=WebDriverWait(driver, 100).until(EC.presence_of_element_located((By.CLASS_NAME, \"_abn_\")))\n",
    "open_foodtalkindia = driver.find_element_by_class_name('_abn_')"
   ]
  },
  {
   "cell_type": "code",
   "execution_count": null,
   "id": "6d410b6d",
   "metadata": {},
   "outputs": [],
   "source": [
    "open_foodtalkindia.click()"
   ]
  },
  {
   "cell_type": "code",
   "execution_count": null,
   "id": "3ce0a3c1",
   "metadata": {},
   "outputs": [],
   "source": [
    "followers = driver.find_elements_by_class_name('_aacy')\n",
    "followers[1].click()"
   ]
  },
  {
   "cell_type": "code",
   "execution_count": null,
   "id": "c7e22cf0",
   "metadata": {},
   "outputs": [],
   "source": [
    "window = driver.find_element_by_class_name('du4w35lb')"
   ]
  },
  {
   "cell_type": "code",
   "execution_count": null,
   "id": "cd5cb9a7",
   "metadata": {},
   "outputs": [],
   "source": [
    "foodtalklist=[]\n",
    "current_height= driver.execute_script('return document.body.scrollHeight;')\n",
    "while True:\n",
    "    elements = driver.find_elements_by_class_name('_aacl')\n",
    "    if len(elements)<500:\n",
    "        foodtalklist.append(element)\n",
    "    driver.execute_script('window.scrollTo(0,arguments[0]);',current_height)\n",
    "    new_height = driver.execute_script('return document.body.scrollHeight;')\n",
    "    if len(foodtalklist)>=500:\n",
    "        break\n",
    "    current_height=new_height\n",
    "print(foodtalklist)"
   ]
  },
  {
   "cell_type": "code",
   "execution_count": null,
   "id": "bdb79d6e",
   "metadata": {},
   "outputs": [],
   "source": [
    "elements = driver.find_elements_by_class_name('_aacl')\n",
    "print(len(elements))"
   ]
  },
  {
   "cell_type": "markdown",
   "id": "4d0047ec",
   "metadata": {},
   "source": [
    "## Checking the story of coding ninjas"
   ]
  },
  {
   "cell_type": "code",
   "execution_count": null,
   "id": "fd839b74",
   "metadata": {},
   "outputs": [],
   "source": [
    "search = driver.find_element_by_class_name('_aaw8')\n",
    "search.click()\n",
    "search_box = driver.find_element_by_class_name('_aawh')\n",
    "search_box.send_keys('coding.ninjas')"
   ]
  },
  {
   "cell_type": "code",
   "execution_count": null,
   "id": "7a9e9487",
   "metadata": {},
   "outputs": [],
   "source": [
    "waiter=WebDriverWait(driver, 100).until(EC.presence_of_element_located((By.CLASS_NAME, \"_abn_\")))\n",
    "\n",
    "open_codingninjas = driver.find_elements_by_class_name('_abn_')\n",
    "open_codingninjas[0].click()"
   ]
  },
  {
   "cell_type": "code",
   "execution_count": null,
   "id": "80a76881",
   "metadata": {},
   "outputs": [],
   "source": [
    "try:\n",
    "    if int(driver.find_element_by_xpath('//div[contains(@class, \"_aarg\")]/canvas').get_attribute('height'))==252:\n",
    "        print('You have not seen the story yet! The story will be shown to you now. check out the driver window')\n",
    "        driver.find_element_by_xpath('//div[contains(@class, \"_aarg\")]').click()\n",
    "    elif int(driver.find_element_by_xpath('//div[contains(@class, \"_aarg\")]/canvas').get_attribute('height'))==249:\n",
    "        print('You have already seen the story!')\n",
    "except NoSuchElementException:\n",
    "    print('The user has no story!')"
   ]
  },
  {
   "cell_type": "code",
   "execution_count": null,
   "id": "f953d3f9",
   "metadata": {},
   "outputs": [],
   "source": []
  }
 ],
 "metadata": {
  "kernelspec": {
   "display_name": "Python 3",
   "language": "python",
   "name": "python3"
  },
  "language_info": {
   "codemirror_mode": {
    "name": "ipython",
    "version": 3
   },
   "file_extension": ".py",
   "mimetype": "text/x-python",
   "name": "python",
   "nbconvert_exporter": "python",
   "pygments_lexer": "ipython3",
   "version": "3.8.8"
  }
 },
 "nbformat": 4,
 "nbformat_minor": 5
}
